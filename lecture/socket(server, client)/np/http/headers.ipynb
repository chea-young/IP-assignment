{
 "cells": [
  {
   "cell_type": "markdown",
   "metadata": {},
   "source": [
    "# Parsing HTTP Header lines"
   ]
  },
  {
   "cell_type": "code",
   "execution_count": 28,
   "metadata": {},
   "outputs": [
    {
     "name": "stdout",
     "output_type": "stream",
     "text": [
      "{'Host': 'mclab.hufs.ac.kr', 'Connection': 'close'}\n",
      "\n",
      "b'Date: Thu, 27 Sep 2018 04:25:01 GMT\\r\\nServer: Apache/2.2.22 (Ubuntu)\\r\\nLast-modified: Tue, 19 Sep 2017 06:13:15 GMT\\r\\nEtag: \"1e982f-569-55984c1337a5f\"\\r\\nAccept-ranges: bytes\\r\\nVary: Accept-Encoding\\r\\nConnection: close\\r\\nContent-type: text/html\\r\\nContent-lenght: 1385\\r\\n'\n"
     ]
    }
   ],
   "source": [
    "def parse_headers(rfile):\n",
    "    \"\"\"Read from rfile and parse header lines\n",
    "    :param rfile: input file-like object\n",
    "    :returns:     parsed header dict \n",
    "                  (Keys in the dict are capitalized for convention)\n",
    "    \"\"\"\n",
    "    \n",
    "    headers = {}\n",
    "    for line in rfile:\n",
    "        if line == b'\\r\\n':\n",
    "            return headers\n",
    "        header = line.decode().strip()  # remove leading and trailing white spaces\n",
    "        key, value = header.split(':', maxsplit=1)\n",
    "        key, value = key.strip().capitalize(), value.strip()\n",
    "        headers[key] = value\n",
    "    return headers\n",
    "\n",
    "def to_bytes(headers):\n",
    "    \"\"\"Convert headers dict into plain bytes separated by CRLF\n",
    "    :param headers: header dict\n",
    "    :returns:       bytes\n",
    "    \"\"\"\n",
    "    \n",
    "    lines = [key + \": \" + value for key, value in headers.items()]\n",
    "    text = \"\\r\\n\".join(lines) + \"\\r\\n\"\n",
    "    return text.encode()\n",
    "\n",
    "# Tester\n",
    "if __name__ == '__main__':\n",
    "    # read request message from an HTTP client\n",
    "    import io\n",
    "    request_msg = b'''GET /test/index.html HTTP/1.1\\r\n",
    "host: mclab.hufs.ac.kr\\r\n",
    "CONNECTION: close\\r\n",
    "\\r\n",
    "'''\n",
    "    file = io.BytesIO(request_msg)\n",
    "    status = file.readline()   # read status line\n",
    "    request_headers = parse_headers(file)\n",
    "    print(request_headers)\n",
    "    \n",
    "    # Build response headers\n",
    "    headers = {\n",
    "        'Date': 'Thu, 27 Sep 2018 04:25:01 GMT', \n",
    "        'Server': 'Apache/2.2.22 (Ubuntu)', \n",
    "        'Last-modified': 'Tue, 19 Sep 2017 06:13:15 GMT', \n",
    "        'Etag': '\"1e982f-569-55984c1337a5f\"', \n",
    "        'Accept-ranges': 'bytes', \n",
    "        'Vary': 'Accept-Encoding',\n",
    "        'Connection': 'close', \n",
    "              }\n",
    "    headers['Content-type'] = 'text/html'\n",
    "    headers['Content-lenght'] = '1385'\n",
    "    header_lines = to_bytes(headers)\n",
    "    print()\n",
    "    print(header_lines)"
   ]
  }
 ],
 "metadata": {
  "kernelspec": {
   "display_name": "Python 3",
   "language": "python",
   "name": "python3"
  },
  "language_info": {
   "codemirror_mode": {
    "name": "ipython",
    "version": 3
   },
   "file_extension": ".py",
   "mimetype": "text/x-python",
   "name": "python",
   "nbconvert_exporter": "python",
   "pygments_lexer": "ipython3",
   "version": "3.6.3"
  }
 },
 "nbformat": 4,
 "nbformat_minor": 2
}
