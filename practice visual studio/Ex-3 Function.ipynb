{
 "cells": [
  {
   "cell_type": "markdown",
   "metadata": {},
   "source": [
    "# Ex-3. Functions"
   ]
  },
  {
   "cell_type": "markdown",
   "metadata": {},
   "source": [
    "## 1.\tArgument-matching examples. \n",
    "First, define the following six functions (either interactively or in a module file that can be imported):"
   ]
  },
  {
   "cell_type": "code",
   "execution_count": null,
   "metadata": {},
   "outputs": [],
   "source": [
    "def f1(a, b): print(a, b)           # Normal args \n",
    "def f2(a, *b): print(a, b)          # Positional var args\n",
    "def f3(a, **b): print(a, b)         # Keyword var args\n",
    "def f4(a, *b, **c): print(a, b, c)  # Mixed modes\n",
    "def f5(a, b=2, c=3): print(a, b, c) # Default values\n",
    "def f6(a, b=2, *c): print(a, b, c)  # Defaults and positional var args"
   ]
  },
  {
   "cell_type": "markdown",
   "metadata": {},
   "source": [
    "Now, test the following calls interactively.."
   ]
  },
  {
   "cell_type": "code",
   "execution_count": null,
   "metadata": {},
   "outputs": [],
   "source": [
    "# case a)\n",
    "f1(1, 2) \n",
    "f1(b=2, a=1)"
   ]
  },
  {
   "cell_type": "code",
   "execution_count": null,
   "metadata": {},
   "outputs": [],
   "source": [
    "# case b)\n",
    "f2(1, 2, 3) \n",
    "f3(1, x=2, y=3) \n",
    "f4(1, 2, 3, x=2, y=3)"
   ]
  },
  {
   "cell_type": "code",
   "execution_count": null,
   "metadata": {},
   "outputs": [],
   "source": [
    "# case c)\n",
    "f5(1) \n",
    "f5(1, 4)"
   ]
  },
  {
   "cell_type": "code",
   "execution_count": null,
   "metadata": {},
   "outputs": [],
   "source": [
    "# case d)\n",
    "f6(1) \n",
    "f6(1, 3, 4)"
   ]
  },
  {
   "cell_type": "markdown",
   "metadata": {},
   "source": [
    "Try to explain each result."
   ]
  },
  {
   "cell_type": "markdown",
   "metadata": {},
   "source": [
    "\n",
    "\n",
    "Your answers here.\n",
    "\n",
    "Case a) line 1은 2개의 positional arguments가 들어가 1과 2가 a와 b에 들어가서 '1 2'라는 결과가 나오게 된 것입니다. line 2는 순서와 상관없이 2개의 keyword arguments가 들어가 1과 2가 a와 b에 들어가서 '1 2'라는 결과가 나온 것입니다.\n",
    "\n",
    "Case b) line 1은 f2 인자 중 b로는 tuple로 들어가기 때문에 1은 a로 2와 3은 b로 들어가 '1 (2,3)'라는 결과가 나오게 된 것입니다. line 2는 f3 인자 중 b로는 dictionary로 들어가기 때문에 1은 a로 들어가고 x=2와 y=3은 b로 packing되어 '1 {'x':2, 'y':3}'이라는 결과가 나오게 된 것입니다, line 3에서 f4 인자 중 b는 tuple, c는 dictionary로 들어가게 되기 때문에 1은 a로 들어가고 2와 3은 b로 x=2와 y=3은 c로 packing되어 '1 (2, 3) {'x': 2, 'y': 3}'라는 결과가 나오게 된 것입니다.\n",
    "\n",
    "Case c) line 1은 1이 positional argument로 a가 되고 f5가 function call이 되면서 b와 c에 default value인 2와 3이 들어가 '1 2 3'이라는 결과가 나오게 된 것입니다. line 2는 1과 4가 positional argument로 a와 b가 되고 c에는 default value인 3이 들어가 '1 4 3'이라는 결과가 나오게 된 것 입니다.\n",
    "\n",
    "Case d) line 1은 1이 positional argument로 a가 되고 b는 default value인 2가 되며 c는 tuple로 비어있는 상태로도 생성이 가능하기 때문에 '1 2 ()'이라는 결과가 나오게 된 것입니다. line 2은 1과 2는 positional argument로 a와 b가 되고 4는 c에 tuple로 들어가 '1 3 (4,)'이라는 결과가 나오게 된 것입니다.\n"
   ]
  },
  {
   "cell_type": "markdown",
   "metadata": {},
   "source": [
    "## 2.\tArguments. \n",
    "Write a function called ```adder``` in a Python module file. The function should accept two arguments and return the sum (or concatenation) of the two. Then, call the ```adder``` function with a variety of object types (two strings, two lists, two floating points)."
   ]
  },
  {
   "cell_type": "code",
   "execution_count": 4,
   "metadata": {},
   "outputs": [
    {
     "name": "stdout",
     "output_type": "stream",
     "text": [
      "[1, 2, 3, 4, 5]\n",
      "argument\n",
      "4.6\n"
     ]
    }
   ],
   "source": [
    "def adder(arg1, arg2):\n",
    "    return arg1+arg2\n",
    "# test code here\n",
    "\n",
    "print(adder([1,2],[3,4,5]))\n",
    "print(adder('ar','gument'))\n",
    "print(adder(1.2,3.4))"
   ]
  },
  {
   "cell_type": "markdown",
   "metadata": {},
   "source": [
    "## 3.\tVariable arguments. \n",
    "Generalize the adder function you wrote in the above to compute the sum of an arbitrary number of arguments, and change the calls to pass more or fewer than two arguments. \n",
    "\n",
    "Hints: a slice such as ```S[:0]``` returns an empty sequence of the same type as S, and the type builtin function can test types "
   ]
  },
  {
   "cell_type": "code",
   "execution_count": 19,
   "metadata": {},
   "outputs": [
    {
     "name": "stdout",
     "output_type": "stream",
     "text": [
      "[1, 2, 3, 4, 5, 5, 6]\n",
      "argument3\n",
      "9.1\n"
     ]
    }
   ],
   "source": [
    "def adder2(*arg):\n",
    "    if (type(arg[0]) == float or type(arg[0]) == int):\n",
    "        answer = 0\n",
    "        for i in arg:\n",
    "            answer += i\n",
    "        return answer\n",
    "    else:\n",
    "        answer = arg[0][:0]\n",
    "        for i in arg:\n",
    "            answer += i\n",
    "        return answer\n",
    "print(adder2([1,2],[3,4,5],[5,6]))\n",
    "print(adder2('ar','gument','3'))\n",
    "print(adder2(1.2, 3.4, 4.5))"
   ]
  },
  {
   "cell_type": "markdown",
   "metadata": {},
   "source": [
    "What happens if you pass in arguments of different types? "
   ]
  },
  {
   "cell_type": "code",
   "execution_count": null,
   "metadata": {},
   "outputs": [],
   "source": [
    "오류가 난다."
   ]
  },
  {
   "cell_type": "markdown",
   "metadata": {},
   "source": [
    "What about passing in dictionaries?"
   ]
  },
  {
   "cell_type": "code",
   "execution_count": null,
   "metadata": {},
   "outputs": [],
   "source": [
    "오류가 난다. dictionaries는 슬라이싱을 할 수가 없다."
   ]
  },
  {
   "cell_type": "markdown",
   "metadata": {},
   "source": [
    "## 4.\tDictionary. \n",
    "Write a function called ```add_dict(dict1, dict2)``` that computes the union of two dictionaries. It should return a new dictionary containing all the items in both its arguments (which are assumed to be dictionaries). If the same key appears in both arguments, feel free to pick a value from either. "
   ]
  },
  {
   "cell_type": "code",
   "execution_count": 24,
   "metadata": {},
   "outputs": [
    {
     "name": "stdout",
     "output_type": "stream",
     "text": [
      "{'a': 2, 'b': 3, 'c': 4}\n"
     ]
    },
    {
     "ename": "IndexError",
     "evalue": "list index out of range",
     "output_type": "error",
     "traceback": [
      "\u001b[1;31m---------------------------------------------------------------------------\u001b[0m",
      "\u001b[1;31mIndexError\u001b[0m                                Traceback (most recent call last)",
      "\u001b[1;32m<ipython-input-24-cfc9b1fa5afd>\u001b[0m in \u001b[0;36m<module>\u001b[1;34m\u001b[0m\n\u001b[0;32m      5\u001b[0m     \u001b[1;32mreturn\u001b[0m \u001b[0mdic\u001b[0m\u001b[1;33m\u001b[0m\u001b[1;33m\u001b[0m\u001b[0m\n\u001b[0;32m      6\u001b[0m \u001b[0mprint\u001b[0m\u001b[1;33m(\u001b[0m\u001b[0madd_dict\u001b[0m\u001b[1;33m(\u001b[0m\u001b[1;33m{\u001b[0m\u001b[1;34m'a'\u001b[0m\u001b[1;33m:\u001b[0m\u001b[1;36m2\u001b[0m\u001b[1;33m,\u001b[0m \u001b[1;34m'b'\u001b[0m\u001b[1;33m:\u001b[0m\u001b[1;36m3\u001b[0m\u001b[1;33m}\u001b[0m\u001b[1;33m,\u001b[0m \u001b[1;33m{\u001b[0m\u001b[1;34m'c'\u001b[0m\u001b[1;33m:\u001b[0m\u001b[1;36m4\u001b[0m\u001b[1;33m}\u001b[0m\u001b[1;33m)\u001b[0m\u001b[1;33m)\u001b[0m\u001b[1;33m\u001b[0m\u001b[1;33m\u001b[0m\u001b[0m\n\u001b[1;32m----> 7\u001b[1;33m \u001b[0mprint\u001b[0m\u001b[1;33m(\u001b[0m\u001b[0madd_dict\u001b[0m\u001b[1;33m(\u001b[0m\u001b[1;33m[\u001b[0m\u001b[1;36m1\u001b[0m\u001b[1;33m,\u001b[0m\u001b[1;36m2\u001b[0m\u001b[1;33m]\u001b[0m\u001b[1;33m,\u001b[0m\u001b[1;33m[\u001b[0m\u001b[1;36m3\u001b[0m\u001b[1;33m,\u001b[0m\u001b[1;36m4\u001b[0m\u001b[1;33m,\u001b[0m\u001b[1;36m5\u001b[0m\u001b[1;33m]\u001b[0m\u001b[1;33m)\u001b[0m\u001b[1;33m)\u001b[0m\u001b[1;33m\u001b[0m\u001b[1;33m\u001b[0m\u001b[0m\n\u001b[0m",
      "\u001b[1;32m<ipython-input-24-cfc9b1fa5afd>\u001b[0m in \u001b[0;36madd_dict\u001b[1;34m(dict1, dict2)\u001b[0m\n\u001b[0;32m      2\u001b[0m     \u001b[0mdic\u001b[0m \u001b[1;33m=\u001b[0m \u001b[0mdict1\u001b[0m\u001b[1;33m\u001b[0m\u001b[1;33m\u001b[0m\u001b[0m\n\u001b[0;32m      3\u001b[0m     \u001b[1;32mfor\u001b[0m \u001b[0mx\u001b[0m \u001b[1;32min\u001b[0m \u001b[0mdict2\u001b[0m\u001b[1;33m:\u001b[0m\u001b[1;33m\u001b[0m\u001b[1;33m\u001b[0m\u001b[0m\n\u001b[1;32m----> 4\u001b[1;33m         \u001b[0mdic\u001b[0m\u001b[1;33m[\u001b[0m\u001b[0mx\u001b[0m\u001b[1;33m]\u001b[0m \u001b[1;33m=\u001b[0m \u001b[0mdict2\u001b[0m\u001b[1;33m[\u001b[0m\u001b[0mx\u001b[0m\u001b[1;33m]\u001b[0m\u001b[1;33m\u001b[0m\u001b[1;33m\u001b[0m\u001b[0m\n\u001b[0m\u001b[0;32m      5\u001b[0m     \u001b[1;32mreturn\u001b[0m \u001b[0mdic\u001b[0m\u001b[1;33m\u001b[0m\u001b[1;33m\u001b[0m\u001b[0m\n\u001b[0;32m      6\u001b[0m \u001b[0mprint\u001b[0m\u001b[1;33m(\u001b[0m\u001b[0madd_dict\u001b[0m\u001b[1;33m(\u001b[0m\u001b[1;33m{\u001b[0m\u001b[1;34m'a'\u001b[0m\u001b[1;33m:\u001b[0m\u001b[1;36m2\u001b[0m\u001b[1;33m,\u001b[0m \u001b[1;34m'b'\u001b[0m\u001b[1;33m:\u001b[0m\u001b[1;36m3\u001b[0m\u001b[1;33m}\u001b[0m\u001b[1;33m,\u001b[0m \u001b[1;33m{\u001b[0m\u001b[1;34m'c'\u001b[0m\u001b[1;33m:\u001b[0m\u001b[1;36m4\u001b[0m\u001b[1;33m}\u001b[0m\u001b[1;33m)\u001b[0m\u001b[1;33m)\u001b[0m\u001b[1;33m\u001b[0m\u001b[1;33m\u001b[0m\u001b[0m\n",
      "\u001b[1;31mIndexError\u001b[0m: list index out of range"
     ]
    }
   ],
   "source": [
    "def add_dict(dict1, dict2):\n",
    "    dic = dict1\n",
    "    for x in dict2:\n",
    "        dic[x] = dict2[x]\n",
    "    return dic\n",
    "print(add_dict({'a':2, 'b':3}, {'c':4}))"
   ]
  },
  {
   "cell_type": "markdown",
   "metadata": {},
   "source": [
    "What happens if you pass lists instead of dictionaries? "
   ]
  },
  {
   "cell_type": "code",
   "execution_count": null,
   "metadata": {},
   "outputs": [],
   "source": [
    "오류가 난다. "
   ]
  },
  {
   "cell_type": "markdown",
   "metadata": {},
   "source": [
    "How could you generalize(rewrite) your function to handle this case, too? (Hint: see the ```type``` built-in function used earlier.)"
   ]
  },
  {
   "cell_type": "code",
   "execution_count": 27,
   "metadata": {},
   "outputs": [
    {
     "name": "stdout",
     "output_type": "stream",
     "text": [
      "{'a': 2, 'b': 3, 'c': 4}\n",
      "[1, 2, 3, 4, 5]\n"
     ]
    }
   ],
   "source": [
    "def add_alltype(dict1, dict2):\n",
    "    if(type(dict1) == dict):\n",
    "        dic = dict1\n",
    "        for x in dict2:\n",
    "            dic[x] = dict2[x]\n",
    "        return dic\n",
    "    elif(type(dict1) == list):\n",
    "        return dict1 + dict2\n",
    "print(add_alltype({'a':2, 'b':3}, {'c':4}))\n",
    "print(add_alltype([1,2],[3,4,5]))"
   ]
  },
  {
   "cell_type": "markdown",
   "metadata": {},
   "source": [
    "## 5.\tComputing factorials. \n",
    "N!, is computed as N*(N-1)*(N-2)*...1. For instance, 6! is 6*5*4*3*2*1, or 720. Write a recursive function ```fact1(N)``` and an iterative function ```fact2(N)```. (Note: 0! == 0)"
   ]
  },
  {
   "cell_type": "code",
   "execution_count": 28,
   "metadata": {},
   "outputs": [],
   "source": [
    "def fact1(N):\n",
    "    if(N==0):\n",
    "        return 0\n",
    "    elif(N<=1):\n",
    "        return 1\n",
    "    else:\n",
    "        return N*fact1(N-1)\n",
    "    \n",
    "def fact2(N):\n",
    "    if(N==0):\n",
    "        return 0\n",
    "    sum = 1\n",
    "    for i in range(1,N+1):\n",
    "        sum *= i\n",
    "    return sum\n"
   ]
  }
 ],
 "metadata": {
  "kernelspec": {
   "display_name": "Python 3",
   "language": "python",
   "name": "python3"
  },
  "language_info": {
   "codemirror_mode": {
    "name": "ipython",
    "version": 3
   },
   "file_extension": ".py",
   "mimetype": "text/x-python",
   "name": "python",
   "nbconvert_exporter": "python",
   "pygments_lexer": "ipython3",
   "version": "3.7.6"
  }
 },
 "nbformat": 4,
 "nbformat_minor": 2
}